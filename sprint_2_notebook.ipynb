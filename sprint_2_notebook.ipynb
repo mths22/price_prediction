{
 "cells": [
  {
   "cell_type": "code",
   "execution_count": 52,
   "id": "5eb5af3b-1578-4675-92c9-e354819f5a14",
   "metadata": {},
   "outputs": [],
   "source": [
    "# Importing packages\n",
    "\n",
    "import pandas as pd\n",
    "import numpy as np\n",
    "import matplotlib.pyplot as plt\n",
    "import seaborn as sns\n",
    "import matplotlib.pyplot as plt\n",
    "from matplotlib.colors import ListedColormap\n",
    "import re\n",
    "import string\n",
    "from sklearn.feature_extraction.text import ENGLISH_STOP_WORDS, CountVectorizer, TfidfVectorizer\n",
    "from sklearn.linear_model import LinearRegression\n",
    "from sklearn.neighbors import NearestNeighbors\n",
    "from sklearn.model_selection import train_test_split\n",
    "from sklearn.decomposition import PCA\n",
    "from sklearn.tree import DecisionTreeClassifier, DecisionTreeRegressor, plot_tree\n",
    "from sklearn.model_selection import cross_val_score, TimeSeriesSplit\n",
    "from sklearn.inspection import DecisionBoundaryDisplay\n",
    "from sklearn.metrics import classification_report\n",
    "from sklearn.pipeline import Pipeline\n",
    "from sklearn.model_selection import GridSearchCV\n",
    "from sklearn.metrics import classification_report, confusion_matrix, RocCurveDisplay, ConfusionMatrixDisplay\n",
    "from scipy.sparse import hstack\n",
    "\n"
   ]
  },
  {
   "cell_type": "code",
   "execution_count": 53,
   "id": "c87256b5-4e8c-40e8-b08b-a396a1a48508",
   "metadata": {},
   "outputs": [
    {
     "data": {
      "text/html": [
       "<div>\n",
       "<style scoped>\n",
       "    .dataframe tbody tr th:only-of-type {\n",
       "        vertical-align: middle;\n",
       "    }\n",
       "\n",
       "    .dataframe tbody tr th {\n",
       "        vertical-align: top;\n",
       "    }\n",
       "\n",
       "    .dataframe thead th {\n",
       "        text-align: right;\n",
       "    }\n",
       "</style>\n",
       "<table border=\"1\" class=\"dataframe\">\n",
       "  <thead>\n",
       "    <tr style=\"text-align: right;\">\n",
       "      <th></th>\n",
       "      <th>train_id</th>\n",
       "      <th>name</th>\n",
       "      <th>item_condition_id</th>\n",
       "      <th>category_name</th>\n",
       "      <th>brand_name</th>\n",
       "      <th>price</th>\n",
       "      <th>shipping</th>\n",
       "      <th>item_description</th>\n",
       "    </tr>\n",
       "  </thead>\n",
       "  <tbody>\n",
       "    <tr>\n",
       "      <th>0</th>\n",
       "      <td>0</td>\n",
       "      <td>MLB Cincinnati Reds T Shirt Size XL</td>\n",
       "      <td>3</td>\n",
       "      <td>Men/Tops/T-shirts</td>\n",
       "      <td>NaN</td>\n",
       "      <td>10.0</td>\n",
       "      <td>1</td>\n",
       "      <td>No description yet</td>\n",
       "    </tr>\n",
       "    <tr>\n",
       "      <th>1</th>\n",
       "      <td>1</td>\n",
       "      <td>Razer BlackWidow Chroma Keyboard</td>\n",
       "      <td>3</td>\n",
       "      <td>Electronics/Computers &amp; Tablets/Components &amp; P...</td>\n",
       "      <td>Razer</td>\n",
       "      <td>52.0</td>\n",
       "      <td>0</td>\n",
       "      <td>This keyboard is in great condition and works ...</td>\n",
       "    </tr>\n",
       "    <tr>\n",
       "      <th>2</th>\n",
       "      <td>2</td>\n",
       "      <td>AVA-VIV Blouse</td>\n",
       "      <td>1</td>\n",
       "      <td>Women/Tops &amp; Blouses/Blouse</td>\n",
       "      <td>Target</td>\n",
       "      <td>10.0</td>\n",
       "      <td>1</td>\n",
       "      <td>Adorable top with a hint of lace and a key hol...</td>\n",
       "    </tr>\n",
       "    <tr>\n",
       "      <th>3</th>\n",
       "      <td>3</td>\n",
       "      <td>Leather Horse Statues</td>\n",
       "      <td>1</td>\n",
       "      <td>Home/Home Décor/Home Décor Accents</td>\n",
       "      <td>NaN</td>\n",
       "      <td>35.0</td>\n",
       "      <td>1</td>\n",
       "      <td>New with tags. Leather horses. Retail for [rm]...</td>\n",
       "    </tr>\n",
       "    <tr>\n",
       "      <th>4</th>\n",
       "      <td>4</td>\n",
       "      <td>24K GOLD plated rose</td>\n",
       "      <td>1</td>\n",
       "      <td>Women/Jewelry/Necklaces</td>\n",
       "      <td>NaN</td>\n",
       "      <td>44.0</td>\n",
       "      <td>0</td>\n",
       "      <td>Complete with certificate of authenticity</td>\n",
       "    </tr>\n",
       "  </tbody>\n",
       "</table>\n",
       "</div>"
      ],
      "text/plain": [
       "   train_id                                 name  item_condition_id  \\\n",
       "0         0  MLB Cincinnati Reds T Shirt Size XL                  3   \n",
       "1         1     Razer BlackWidow Chroma Keyboard                  3   \n",
       "2         2                       AVA-VIV Blouse                  1   \n",
       "3         3                Leather Horse Statues                  1   \n",
       "4         4                 24K GOLD plated rose                  1   \n",
       "\n",
       "                                       category_name brand_name  price  \\\n",
       "0                                  Men/Tops/T-shirts        NaN   10.0   \n",
       "1  Electronics/Computers & Tablets/Components & P...      Razer   52.0   \n",
       "2                        Women/Tops & Blouses/Blouse     Target   10.0   \n",
       "3                 Home/Home Décor/Home Décor Accents        NaN   35.0   \n",
       "4                            Women/Jewelry/Necklaces        NaN   44.0   \n",
       "\n",
       "   shipping                                   item_description  \n",
       "0         1                                 No description yet  \n",
       "1         0  This keyboard is in great condition and works ...  \n",
       "2         1  Adorable top with a hint of lace and a key hol...  \n",
       "3         1  New with tags. Leather horses. Retail for [rm]...  \n",
       "4         0          Complete with certificate of authenticity  "
      ]
     },
     "execution_count": 53,
     "metadata": {},
     "output_type": "execute_result"
    }
   ],
   "source": [
    "main_df = pd.read_csv('data/train.tsv', sep= '\\t')\n",
    "main_df.head()"
   ]
  },
  {
   "cell_type": "code",
   "execution_count": 54,
   "id": "c2b43c6a-3d62-48d9-b1be-b0b1f6edb05d",
   "metadata": {},
   "outputs": [
    {
     "data": {
      "text/plain": [
       "Index(['train_id', 'name', 'item_condition_id', 'category_name', 'brand_name',\n",
       "       'price', 'shipping', 'item_description'],\n",
       "      dtype='object')"
      ]
     },
     "execution_count": 54,
     "metadata": {},
     "output_type": "execute_result"
    }
   ],
   "source": [
    "main_df.columns"
   ]
  },
  {
   "cell_type": "code",
   "execution_count": 55,
   "id": "ce7c9b30-7028-44c3-97fe-14b892a58364",
   "metadata": {},
   "outputs": [
    {
     "data": {
      "text/plain": [
       "(1482535, 8)"
      ]
     },
     "execution_count": 55,
     "metadata": {},
     "output_type": "execute_result"
    }
   ],
   "source": [
    "main_df.shape"
   ]
  },
  {
   "cell_type": "code",
   "execution_count": 56,
   "id": "b4777f74-8517-43c1-8906-07db818e6142",
   "metadata": {},
   "outputs": [
    {
     "data": {
      "text/html": [
       "<div>\n",
       "<style scoped>\n",
       "    .dataframe tbody tr th:only-of-type {\n",
       "        vertical-align: middle;\n",
       "    }\n",
       "\n",
       "    .dataframe tbody tr th {\n",
       "        vertical-align: top;\n",
       "    }\n",
       "\n",
       "    .dataframe thead th {\n",
       "        text-align: right;\n",
       "    }\n",
       "</style>\n",
       "<table border=\"1\" class=\"dataframe\">\n",
       "  <thead>\n",
       "    <tr style=\"text-align: right;\">\n",
       "      <th></th>\n",
       "      <th>train_id</th>\n",
       "      <th>name</th>\n",
       "      <th>item_condition_id</th>\n",
       "      <th>category_name</th>\n",
       "      <th>brand_name</th>\n",
       "      <th>price</th>\n",
       "      <th>shipping</th>\n",
       "      <th>item_description</th>\n",
       "    </tr>\n",
       "  </thead>\n",
       "  <tbody>\n",
       "    <tr>\n",
       "      <th>1482530</th>\n",
       "      <td>1482530</td>\n",
       "      <td>Free People Inspired Dress</td>\n",
       "      <td>2</td>\n",
       "      <td>Women/Dresses/Mid-Calf</td>\n",
       "      <td>Free People</td>\n",
       "      <td>20.0</td>\n",
       "      <td>1</td>\n",
       "      <td>Lace, says size small but fits medium perfectl...</td>\n",
       "    </tr>\n",
       "    <tr>\n",
       "      <th>1482531</th>\n",
       "      <td>1482531</td>\n",
       "      <td>Little mermaid handmade dress</td>\n",
       "      <td>2</td>\n",
       "      <td>Kids/Girls 2T-5T/Dresses</td>\n",
       "      <td>Disney</td>\n",
       "      <td>14.0</td>\n",
       "      <td>0</td>\n",
       "      <td>Little mermaid handmade dress never worn size 2t</td>\n",
       "    </tr>\n",
       "    <tr>\n",
       "      <th>1482532</th>\n",
       "      <td>1482532</td>\n",
       "      <td>21 day fix containers and eating plan</td>\n",
       "      <td>2</td>\n",
       "      <td>Sports &amp; Outdoors/Exercise/Fitness accessories</td>\n",
       "      <td>NaN</td>\n",
       "      <td>12.0</td>\n",
       "      <td>0</td>\n",
       "      <td>Used once or twice, still in great shape.</td>\n",
       "    </tr>\n",
       "    <tr>\n",
       "      <th>1482533</th>\n",
       "      <td>1482533</td>\n",
       "      <td>World markets lanterns</td>\n",
       "      <td>3</td>\n",
       "      <td>Home/Home Décor/Home Décor Accents</td>\n",
       "      <td>NaN</td>\n",
       "      <td>45.0</td>\n",
       "      <td>1</td>\n",
       "      <td>There is 2 of each one that you see! So 2 red ...</td>\n",
       "    </tr>\n",
       "    <tr>\n",
       "      <th>1482534</th>\n",
       "      <td>1482534</td>\n",
       "      <td>Brand new lux de ville wallet</td>\n",
       "      <td>1</td>\n",
       "      <td>Women/Women's Accessories/Wallets</td>\n",
       "      <td>NaN</td>\n",
       "      <td>22.0</td>\n",
       "      <td>0</td>\n",
       "      <td>New with tag, red with sparkle. Firm price, no...</td>\n",
       "    </tr>\n",
       "  </tbody>\n",
       "</table>\n",
       "</div>"
      ],
      "text/plain": [
       "         train_id                                   name  item_condition_id  \\\n",
       "1482530   1482530             Free People Inspired Dress                  2   \n",
       "1482531   1482531          Little mermaid handmade dress                  2   \n",
       "1482532   1482532  21 day fix containers and eating plan                  2   \n",
       "1482533   1482533                 World markets lanterns                  3   \n",
       "1482534   1482534          Brand new lux de ville wallet                  1   \n",
       "\n",
       "                                          category_name   brand_name  price  \\\n",
       "1482530                          Women/Dresses/Mid-Calf  Free People   20.0   \n",
       "1482531                        Kids/Girls 2T-5T/Dresses       Disney   14.0   \n",
       "1482532  Sports & Outdoors/Exercise/Fitness accessories          NaN   12.0   \n",
       "1482533              Home/Home Décor/Home Décor Accents          NaN   45.0   \n",
       "1482534               Women/Women's Accessories/Wallets          NaN   22.0   \n",
       "\n",
       "         shipping                                   item_description  \n",
       "1482530         1  Lace, says size small but fits medium perfectl...  \n",
       "1482531         0   Little mermaid handmade dress never worn size 2t  \n",
       "1482532         0          Used once or twice, still in great shape.  \n",
       "1482533         1  There is 2 of each one that you see! So 2 red ...  \n",
       "1482534         0  New with tag, red with sparkle. Firm price, no...  "
      ]
     },
     "execution_count": 56,
     "metadata": {},
     "output_type": "execute_result"
    }
   ],
   "source": [
    "main_df.tail()"
   ]
  },
  {
   "cell_type": "code",
   "execution_count": 57,
   "id": "04f786e3",
   "metadata": {},
   "outputs": [
    {
     "data": {
      "text/plain": [
       "array([3, 1, 2, 4, 5])"
      ]
     },
     "execution_count": 57,
     "metadata": {},
     "output_type": "execute_result"
    }
   ],
   "source": [
    "main_df['item_condition_id'].unique()"
   ]
  },
  {
   "cell_type": "code",
   "execution_count": 58,
   "id": "27ffc980",
   "metadata": {},
   "outputs": [
    {
     "name": "stdout",
     "output_type": "stream",
     "text": [
      "Minimum price in the dataset: 0.0\n",
      "Maximum price in the dataset: 2009.0\n"
     ]
    }
   ],
   "source": [
    "#Checking min and max prices to understand what range of prices we can expect for this dataset.\n",
    "\n",
    "max_price = main_df['price'].max()\n",
    "min_price = main_df['price'].min()\n",
    "\n",
    "print(f'Minimum price in the dataset: {min_price}')\n",
    "print(f'Maximum price in the dataset: {max_price}')"
   ]
  },
  {
   "cell_type": "code",
   "execution_count": 59,
   "id": "732e01d5",
   "metadata": {},
   "outputs": [
    {
     "name": "stdout",
     "output_type": "stream",
     "text": [
      "<class 'pandas.core.frame.DataFrame'>\n",
      "RangeIndex: 1482535 entries, 0 to 1482534\n",
      "Data columns (total 8 columns):\n",
      " #   Column             Non-Null Count    Dtype  \n",
      "---  ------             --------------    -----  \n",
      " 0   train_id           1482535 non-null  int64  \n",
      " 1   name               1482535 non-null  object \n",
      " 2   item_condition_id  1482535 non-null  int64  \n",
      " 3   category_name      1476208 non-null  object \n",
      " 4   brand_name         849853 non-null   object \n",
      " 5   price              1482535 non-null  float64\n",
      " 6   shipping           1482535 non-null  int64  \n",
      " 7   item_description   1482529 non-null  object \n",
      "dtypes: float64(1), int64(3), object(4)\n",
      "memory usage: 90.5+ MB\n"
     ]
    }
   ],
   "source": [
    "main_df.info()"
   ]
  },
  {
   "cell_type": "code",
   "execution_count": 60,
   "id": "d2ac2dcf",
   "metadata": {},
   "outputs": [
    {
     "data": {
      "text/plain": [
       "0"
      ]
     },
     "execution_count": 60,
     "metadata": {},
     "output_type": "execute_result"
    }
   ],
   "source": [
    "main_df.duplicated().sum()"
   ]
  },
  {
   "cell_type": "code",
   "execution_count": 61,
   "id": "7a76fd13",
   "metadata": {},
   "outputs": [
    {
     "data": {
      "text/plain": [
       "train_id                  0\n",
       "name                      0\n",
       "item_condition_id         0\n",
       "category_name          6327\n",
       "brand_name           632682\n",
       "price                     0\n",
       "shipping                  0\n",
       "item_description          6\n",
       "dtype: int64"
      ]
     },
     "execution_count": 61,
     "metadata": {},
     "output_type": "execute_result"
    }
   ],
   "source": [
    "main_df.isna().sum()\n"
   ]
  },
  {
   "cell_type": "code",
   "execution_count": 62,
   "id": "2e040b1e",
   "metadata": {},
   "outputs": [
    {
     "data": {
      "text/plain": [
       "train_id             0.000000\n",
       "name                 0.000000\n",
       "item_condition_id    0.000000\n",
       "category_name        0.004268\n",
       "brand_name           0.426757\n",
       "price                0.000000\n",
       "shipping             0.000000\n",
       "item_description     0.000004\n",
       "dtype: float64"
      ]
     },
     "execution_count": 62,
     "metadata": {},
     "output_type": "execute_result"
    }
   ],
   "source": [
    "main_df.isna().mean()"
   ]
  },
  {
   "cell_type": "code",
   "execution_count": 63,
   "id": "3dd8feef",
   "metadata": {},
   "outputs": [
    {
     "data": {
      "text/plain": [
       "<Axes: >"
      ]
     },
     "execution_count": 63,
     "metadata": {},
     "output_type": "execute_result"
    },
    {
     "data": {
      "image/png": "[encoded data removed]",
      "text/plain": [
       "<Figure size 640x480 with 1 Axes>"
      ]
     },
     "metadata": {},
     "output_type": "display_data"
    }
   ],
   "source": [
    "sns.heatmap(main_df.isnull(),\n",
    "            yticklabels=False,\n",
    "            cbar=False)"
   ]
  },
  {
   "cell_type": "markdown",
   "id": "30080b29",
   "metadata": {},
   "source": []
  },
  {
   "cell_type": "code",
   "execution_count": 64,
   "id": "d7e306a3",
   "metadata": {},
   "outputs": [],
   "source": [
    "#Dropping Null value rows because the most part is as brand name and we cant make that information up. because we have a vary large amout of rowsin the full dataset we can afford to loose some rows\n",
    "\n",
    "main_df = main_df.dropna()\n"
   ]
  },
  {
   "cell_type": "code",
   "execution_count": 65,
   "id": "73341eb8",
   "metadata": {},
   "outputs": [
    {
     "name": "stdout",
     "output_type": "stream",
     "text": [
      "<class 'pandas.core.frame.DataFrame'>\n",
      "Index: 846981 entries, 1 to 1482531\n",
      "Data columns (total 8 columns):\n",
      " #   Column             Non-Null Count   Dtype  \n",
      "---  ------             --------------   -----  \n",
      " 0   train_id           846981 non-null  int64  \n",
      " 1   name               846981 non-null  object \n",
      " 2   item_condition_id  846981 non-null  int64  \n",
      " 3   category_name      846981 non-null  object \n",
      " 4   brand_name         846981 non-null  object \n",
      " 5   price              846981 non-null  float64\n",
      " 6   shipping           846981 non-null  int64  \n",
      " 7   item_description   846981 non-null  object \n",
      "dtypes: float64(1), int64(3), object(4)\n",
      "memory usage: 58.2+ MB\n"
     ]
    }
   ],
   "source": [
    "main_df.info()"
   ]
  },
  {
   "cell_type": "code",
   "execution_count": 66,
   "id": "de1520e2",
   "metadata": {},
   "outputs": [],
   "source": [
    "# Dropping price because it's my y variable and train_id because it doesn't have any meaning for our analysis\n",
    "plot_columns_distribution = main_df.drop(['train_id', 'name', 'category_name', 'item_description', 'brand_name'], axis=1)"
   ]
  },
  {
   "cell_type": "code",
   "execution_count": 67,
   "id": "074d8dc0",
   "metadata": {},
   "outputs": [
    {
     "data": {
      "image/png": "[encoded data removed]",
      "text/plain": [
       "<Figure size 800x600 with 4 Axes>"
      ]
     },
     "metadata": {},
     "output_type": "display_data"
    }
   ],
   "source": [
    "# Write a loop, that goes through all column names, and creates a count plot for each one \n",
    "# Specify subplot dimensions \n",
    "nrows = 2\n",
    "ncols = 2\n",
    "\n",
    "# Create \"subplot\" grid \n",
    "plt.subplots(nrows, ncols, figsize=(8, 6))\n",
    "\n",
    "# Loop through positions and add plots \n",
    "for i, col in enumerate(plot_columns_distribution.columns): \n",
    "    plt.subplot(nrows, ncols, i + 1)\n",
    "    if col == 'price':  # Check if the column is \"price\"\n",
    "        main_df[col].plot(kind='hist', bins=50, edgecolor='black', log=True).set_title(col) \n",
    "    else:\n",
    "        main_df[col].value_counts().plot(kind='barh').set_title(col)\n",
    "\n",
    "plt.tight_layout()\n",
    "plt.show()\n"
   ]
  },
  {
   "cell_type": "code",
   "execution_count": null,
   "id": "414eaef3",
   "metadata": {},
   "outputs": [],
   "source": []
  },
  {
   "cell_type": "code",
   "execution_count": null,
   "id": "e38dfc88",
   "metadata": {},
   "outputs": [],
   "source": []
  },
  {
   "cell_type": "code",
   "execution_count": null,
   "id": "8befbc8a",
   "metadata": {},
   "outputs": [],
   "source": []
  },
  {
   "cell_type": "code",
   "execution_count": null,
   "id": "597195e4",
   "metadata": {},
   "outputs": [],
   "source": []
  },
  {
   "cell_type": "markdown",
   "id": "834ed0a4",
   "metadata": {},
   "source": [
    "After some EDA, now we will create our tokenizer and pass it into CountVectorizer to get the tokens from the columns: 'name, 'category_name', 'item_description'. After getting cleaned tokens we will apply some techniques from Spacy library before modeling to make sure we have everithing well categorized and clean to start modeling with a linear regression.\n"
   ]
  },
  {
   "cell_type": "code",
   "execution_count": 68,
   "id": "a90d26aa",
   "metadata": {},
   "outputs": [],
   "source": [
    "# Defining the tokenizer function\n",
    "forbidden_char = string.punctuation + \"1234567890\"\n",
    "\n",
    "def custom_tokenizer(text):\n",
    "    # Lowercase text\n",
    "    text = text.lower()\n",
    "\n",
    "    # Remove special characters\n",
    "    text = re.sub(f\"[{forbidden_char}]\", \"\", text)\n",
    "\n",
    "    # Split into words as tokens\n",
    "    tokens = text.split()\n",
    "\n",
    "    # Filter stopwords\n",
    "    tokens = [tok for tok in tokens if tok not in ENGLISH_STOP_WORDS and len(tok) > 2]\n",
    "\n",
    "    return tokens"
   ]
  },
  {
   "cell_type": "markdown",
   "id": "0def77d0",
   "metadata": {},
   "source": [
    "Now that we created our tokenizer we will create a sample because our next steps will be to tokenize and vectorize the data and that might take too long if we use the whole dataset. So i will create a sample_df that will be used from now on to split our treain and test sets an procede with preprocessing and modeling."
   ]
  },
  {
   "cell_type": "code",
   "execution_count": 69,
   "id": "0f6c87bb",
   "metadata": {},
   "outputs": [],
   "source": [
    "sample_df = main_df.sample(frac=0.05, random_state=42)"
   ]
  },
  {
   "cell_type": "code",
   "execution_count": 70,
   "id": "6f4481d7",
   "metadata": {},
   "outputs": [
    {
     "data": {
      "text/plain": [
       "(42349, 8)"
      ]
     },
     "execution_count": 70,
     "metadata": {},
     "output_type": "execute_result"
    }
   ],
   "source": [
    "sample_df.shape"
   ]
  },
  {
   "cell_type": "code",
   "execution_count": 71,
   "id": "d2242b4d",
   "metadata": {},
   "outputs": [
    {
     "name": "stdout",
     "output_type": "stream",
     "text": [
      "<class 'pandas.core.frame.DataFrame'>\n",
      "Index: 42349 entries, 42121 to 201751\n",
      "Data columns (total 8 columns):\n",
      " #   Column             Non-Null Count  Dtype  \n",
      "---  ------             --------------  -----  \n",
      " 0   train_id           42349 non-null  int64  \n",
      " 1   name               42349 non-null  object \n",
      " 2   item_condition_id  42349 non-null  int64  \n",
      " 3   category_name      42349 non-null  object \n",
      " 4   brand_name         42349 non-null  object \n",
      " 5   price              42349 non-null  float64\n",
      " 6   shipping           42349 non-null  int64  \n",
      " 7   item_description   42349 non-null  object \n",
      "dtypes: float64(1), int64(3), object(4)\n",
      "memory usage: 2.9+ MB\n"
     ]
    }
   ],
   "source": [
    "sample_df.info()"
   ]
  },
  {
   "cell_type": "code",
   "execution_count": 72,
   "id": "7119ed89",
   "metadata": {},
   "outputs": [],
   "source": [
    "#Separating the data into X and y\n",
    "x = sample_df.drop('price', axis=1)\n",
    "y = sample_df['price']"
   ]
  },
  {
   "cell_type": "code",
   "execution_count": 73,
   "id": "74bb11d3",
   "metadata": {},
   "outputs": [],
   "source": [
    "# Train test Split\n",
    "x_train, x_test, y_train, y_test = train_test_split(x, y, test_size=0.2, random_state=42)"
   ]
  },
  {
   "cell_type": "markdown",
   "id": "1fb622c3",
   "metadata": {},
   "source": [
    "Here we are extracting from our x_train and x_test the 4 different text columns that we will be passing into our vectorizer separetly. We are doing this process separetly because we need to pass a string list into the vectorizer. also we will vectorize it separatly to make sure we add a prefix to each of the tokens, especifying from which column that tokenizer came from. This will help us having more context when we have our X_train_final."
   ]
  },
  {
   "cell_type": "code",
   "execution_count": 74,
   "id": "98e6b707",
   "metadata": {},
   "outputs": [],
   "source": [
    "# x_train text columns separation\n",
    "x_train_name = x_train['name']\n",
    "\n",
    "x_train_desc = x_train['item_description']\n",
    "\n",
    "x_train_brand = x_train['brand_name']\n",
    "\n",
    "x_train_cat = x_train['category_name']\n",
    "\n",
    "# x_test text columns separation\n",
    "x_test_name = x_test['name']\n",
    "\n",
    "x_test_desc = x_test['item_description']\n",
    "\n",
    "x_test_brand = x_test['brand_name']\n",
    "\n",
    "x_test_cat = x_test['category_name']\n",
    "\n"
   ]
  },
  {
   "cell_type": "markdown",
   "id": "a50b2a89",
   "metadata": {},
   "source": [
    "Below we are vectorizing the text columns separetly(name, desc, brand and category) and then putting them all together with hstack."
   ]
  },
  {
   "cell_type": "code",
   "execution_count": 75,
   "id": "6b38383d",
   "metadata": {},
   "outputs": [
    {
     "name": "stderr",
     "output_type": "stream",
     "text": [
      "/opt/anaconda3/envs/ml_env/lib/python3.11/site-packages/sklearn/feature_extraction/text.py:525: UserWarning: The parameter 'token_pattern' will not be used since 'tokenizer' is not None'\n",
      "  warnings.warn(\n"
     ]
    }
   ],
   "source": [
    "# Initialize separate vectorizers for each column\n",
    "vectorizer_name = CountVectorizer(tokenizer=custom_tokenizer, min_df=10, max_features=1000)\n",
    "vectorizer_desc = CountVectorizer(tokenizer=custom_tokenizer, ngram_range=(1, 2), max_features=2000)\n",
    "vectorizer_brand = CountVectorizer(tokenizer=custom_tokenizer, min_df=10, max_features=1000)\n",
    "vectorizer_cat = CountVectorizer(tokenizer=custom_tokenizer, min_df=10, max_features=1000)\n",
    "\n",
    "# Fit and transform on train data, transform on test data\n",
    "X_train_name = vectorizer_name.fit_transform(x_train_name)\n",
    "X_test_name = vectorizer_name.transform(x_test_name)\n",
    "\n",
    "X_train_desc = vectorizer_desc.fit_transform(x_train_desc)\n",
    "X_test_desc = vectorizer_desc.transform(x_test_desc)\n",
    "\n",
    "X_train_brand = vectorizer_brand.fit_transform(x_train_brand)\n",
    "X_test_brand = vectorizer_brand.transform(x_test_brand)\n",
    "\n",
    "X_train_cat = vectorizer_cat.fit_transform(x_train_cat)\n",
    "X_test_cat = vectorizer_cat.transform(x_test_cat)\n",
    "\n",
    "# Combine all transformed columns into final training and test sets\n",
    "X_train_text_final = hstack([X_train_name, X_train_desc, X_train_brand, X_train_cat])\n",
    "X_test_text_final = hstack([X_test_name, X_test_desc, X_test_brand, X_test_cat])\n"
   ]
  },
  {
   "cell_type": "markdown",
   "id": "2b71cd5b",
   "metadata": {},
   "source": [
    "Here we are getting feature names out and combining with our tokens also adding a prefix that refers to which column that token came from. After that we convert the whole thing to a dataframe and conbinenames with tokens. then we reset the indexes to make sure we ae ready to merge the text data tokens to the other numerical variables from our full dataset. after merging text data with numerical variables we have our X_train_final and X_test_final ready for modeling."
   ]
  },
  {
   "cell_type": "code",
   "execution_count": 76,
   "id": "974497d0",
   "metadata": {},
   "outputs": [],
   "source": [
    "# Step 1: Get feature names from each vectorizer and add prefixes\n",
    "feature_names_name = [f\"name_{feat}\" for feat in vectorizer_name.get_feature_names_out()]\n",
    "feature_names_desc = [f\"desc_{feat}\" for feat in vectorizer_desc.get_feature_names_out()]\n",
    "feature_names_brand = [f\"brand_{feat}\" for feat in vectorizer_brand.get_feature_names_out()]\n",
    "feature_names_cat = [f\"cat_{feat}\" for feat in vectorizer_cat.get_feature_names_out()]\n",
    "\n",
    "# Combine all feature names\n",
    "text_feature_names = feature_names_name + feature_names_desc + feature_names_brand + feature_names_cat\n",
    "\n",
    "# Step 2: Convert sparse matrices to DataFrames\n",
    "X_train_text_df = pd.DataFrame(X_train_text_final.toarray(), columns=text_feature_names)\n",
    "X_test_text_df = pd.DataFrame(X_test_text_final.toarray(), columns=text_feature_names)\n",
    "\n",
    "# Step 3: Reset indices to align with numerical features before merging\n",
    "X_train_text_df.reset_index(drop=True, inplace=True)\n",
    "X_test_text_df.reset_index(drop=True, inplace=True)\n",
    "x_train.reset_index(drop=True, inplace=True)\n",
    "x_test.reset_index(drop=True, inplace=True)\n",
    "\n",
    "# Step 4: Merge text features back with numerical features\n",
    "X_train_final = pd.concat([x_train.drop(columns=[\"name\", \"item_description\", \"brand_name\", \"category_name\"]), X_train_text_df], axis=1)\n",
    "X_test_final = pd.concat([x_test.drop(columns=[\"name\", \"item_description\", \"brand_name\", \"category_name\"]), X_test_text_df], axis=1)\n"
   ]
  },
  {
   "cell_type": "code",
   "execution_count": 77,
   "id": "e5fbaf75",
   "metadata": {},
   "outputs": [
    {
     "data": {
      "text/html": [
       "<div>\n",
       "<style scoped>\n",
       "    .dataframe tbody tr th:only-of-type {\n",
       "        vertical-align: middle;\n",
       "    }\n",
       "\n",
       "    .dataframe tbody tr th {\n",
       "        vertical-align: top;\n",
       "    }\n",
       "\n",
       "    .dataframe thead th {\n",
       "        text-align: right;\n",
       "    }\n",
       "</style>\n",
       "<table border=\"1\" class=\"dataframe\">\n",
       "  <thead>\n",
       "    <tr style=\"text-align: right;\">\n",
       "      <th></th>\n",
       "      <th>train_id</th>\n",
       "      <th>item_condition_id</th>\n",
       "      <th>shipping</th>\n",
       "      <th>name_abercrombie</th>\n",
       "      <th>name_abh</th>\n",
       "      <th>name_active</th>\n",
       "      <th>name_adapter</th>\n",
       "      <th>name_adidas</th>\n",
       "      <th>name_advance</th>\n",
       "      <th>name_aeo</th>\n",
       "      <th>...</th>\n",
       "      <th>cat_womenswimwearonepiece</th>\n",
       "      <th>cat_womenswimweartwopiece</th>\n",
       "      <th>cat_womentops</th>\n",
       "      <th>cat_womenunderwearbras</th>\n",
       "      <th>cat_womenunderweargstrings</th>\n",
       "      <th>cat_womenunderwearother</th>\n",
       "      <th>cat_womenunderwearpanties</th>\n",
       "      <th>cat_womenwomens</th>\n",
       "      <th>cat_wraps</th>\n",
       "      <th>cat_zip</th>\n",
       "    </tr>\n",
       "  </thead>\n",
       "  <tbody>\n",
       "    <tr>\n",
       "      <th>0</th>\n",
       "      <td>256649</td>\n",
       "      <td>1</td>\n",
       "      <td>1</td>\n",
       "      <td>0</td>\n",
       "      <td>0</td>\n",
       "      <td>0</td>\n",
       "      <td>0</td>\n",
       "      <td>0</td>\n",
       "      <td>0</td>\n",
       "      <td>0</td>\n",
       "      <td>...</td>\n",
       "      <td>0</td>\n",
       "      <td>0</td>\n",
       "      <td>0</td>\n",
       "      <td>0</td>\n",
       "      <td>0</td>\n",
       "      <td>0</td>\n",
       "      <td>0</td>\n",
       "      <td>0</td>\n",
       "      <td>0</td>\n",
       "      <td>0</td>\n",
       "    </tr>\n",
       "    <tr>\n",
       "      <th>1</th>\n",
       "      <td>1428812</td>\n",
       "      <td>3</td>\n",
       "      <td>0</td>\n",
       "      <td>0</td>\n",
       "      <td>0</td>\n",
       "      <td>0</td>\n",
       "      <td>0</td>\n",
       "      <td>0</td>\n",
       "      <td>0</td>\n",
       "      <td>0</td>\n",
       "      <td>...</td>\n",
       "      <td>0</td>\n",
       "      <td>0</td>\n",
       "      <td>0</td>\n",
       "      <td>0</td>\n",
       "      <td>0</td>\n",
       "      <td>0</td>\n",
       "      <td>0</td>\n",
       "      <td>0</td>\n",
       "      <td>0</td>\n",
       "      <td>0</td>\n",
       "    </tr>\n",
       "    <tr>\n",
       "      <th>2</th>\n",
       "      <td>355453</td>\n",
       "      <td>2</td>\n",
       "      <td>1</td>\n",
       "      <td>0</td>\n",
       "      <td>0</td>\n",
       "      <td>0</td>\n",
       "      <td>0</td>\n",
       "      <td>0</td>\n",
       "      <td>0</td>\n",
       "      <td>0</td>\n",
       "      <td>...</td>\n",
       "      <td>0</td>\n",
       "      <td>0</td>\n",
       "      <td>1</td>\n",
       "      <td>0</td>\n",
       "      <td>0</td>\n",
       "      <td>0</td>\n",
       "      <td>0</td>\n",
       "      <td>0</td>\n",
       "      <td>0</td>\n",
       "      <td>0</td>\n",
       "    </tr>\n",
       "    <tr>\n",
       "      <th>3</th>\n",
       "      <td>615597</td>\n",
       "      <td>1</td>\n",
       "      <td>1</td>\n",
       "      <td>0</td>\n",
       "      <td>0</td>\n",
       "      <td>0</td>\n",
       "      <td>0</td>\n",
       "      <td>0</td>\n",
       "      <td>0</td>\n",
       "      <td>0</td>\n",
       "      <td>...</td>\n",
       "      <td>0</td>\n",
       "      <td>0</td>\n",
       "      <td>0</td>\n",
       "      <td>0</td>\n",
       "      <td>0</td>\n",
       "      <td>0</td>\n",
       "      <td>0</td>\n",
       "      <td>0</td>\n",
       "      <td>0</td>\n",
       "      <td>0</td>\n",
       "    </tr>\n",
       "    <tr>\n",
       "      <th>4</th>\n",
       "      <td>413071</td>\n",
       "      <td>2</td>\n",
       "      <td>0</td>\n",
       "      <td>0</td>\n",
       "      <td>0</td>\n",
       "      <td>0</td>\n",
       "      <td>0</td>\n",
       "      <td>0</td>\n",
       "      <td>0</td>\n",
       "      <td>0</td>\n",
       "      <td>...</td>\n",
       "      <td>0</td>\n",
       "      <td>0</td>\n",
       "      <td>0</td>\n",
       "      <td>0</td>\n",
       "      <td>0</td>\n",
       "      <td>0</td>\n",
       "      <td>0</td>\n",
       "      <td>0</td>\n",
       "      <td>0</td>\n",
       "      <td>0</td>\n",
       "    </tr>\n",
       "    <tr>\n",
       "      <th>...</th>\n",
       "      <td>...</td>\n",
       "      <td>...</td>\n",
       "      <td>...</td>\n",
       "      <td>...</td>\n",
       "      <td>...</td>\n",
       "      <td>...</td>\n",
       "      <td>...</td>\n",
       "      <td>...</td>\n",
       "      <td>...</td>\n",
       "      <td>...</td>\n",
       "      <td>...</td>\n",
       "      <td>...</td>\n",
       "      <td>...</td>\n",
       "      <td>...</td>\n",
       "      <td>...</td>\n",
       "      <td>...</td>\n",
       "      <td>...</td>\n",
       "      <td>...</td>\n",
       "      <td>...</td>\n",
       "      <td>...</td>\n",
       "      <td>...</td>\n",
       "    </tr>\n",
       "    <tr>\n",
       "      <th>33874</th>\n",
       "      <td>576201</td>\n",
       "      <td>2</td>\n",
       "      <td>0</td>\n",
       "      <td>0</td>\n",
       "      <td>0</td>\n",
       "      <td>0</td>\n",
       "      <td>0</td>\n",
       "      <td>0</td>\n",
       "      <td>0</td>\n",
       "      <td>0</td>\n",
       "      <td>...</td>\n",
       "      <td>0</td>\n",
       "      <td>0</td>\n",
       "      <td>1</td>\n",
       "      <td>0</td>\n",
       "      <td>0</td>\n",
       "      <td>0</td>\n",
       "      <td>0</td>\n",
       "      <td>0</td>\n",
       "      <td>0</td>\n",
       "      <td>0</td>\n",
       "    </tr>\n",
       "    <tr>\n",
       "      <th>33875</th>\n",
       "      <td>921430</td>\n",
       "      <td>1</td>\n",
       "      <td>0</td>\n",
       "      <td>0</td>\n",
       "      <td>0</td>\n",
       "      <td>0</td>\n",
       "      <td>0</td>\n",
       "      <td>0</td>\n",
       "      <td>0</td>\n",
       "      <td>0</td>\n",
       "      <td>...</td>\n",
       "      <td>0</td>\n",
       "      <td>0</td>\n",
       "      <td>0</td>\n",
       "      <td>0</td>\n",
       "      <td>0</td>\n",
       "      <td>0</td>\n",
       "      <td>0</td>\n",
       "      <td>0</td>\n",
       "      <td>0</td>\n",
       "      <td>0</td>\n",
       "    </tr>\n",
       "    <tr>\n",
       "      <th>33876</th>\n",
       "      <td>859895</td>\n",
       "      <td>3</td>\n",
       "      <td>0</td>\n",
       "      <td>0</td>\n",
       "      <td>0</td>\n",
       "      <td>0</td>\n",
       "      <td>0</td>\n",
       "      <td>0</td>\n",
       "      <td>0</td>\n",
       "      <td>0</td>\n",
       "      <td>...</td>\n",
       "      <td>0</td>\n",
       "      <td>0</td>\n",
       "      <td>1</td>\n",
       "      <td>0</td>\n",
       "      <td>0</td>\n",
       "      <td>0</td>\n",
       "      <td>0</td>\n",
       "      <td>0</td>\n",
       "      <td>0</td>\n",
       "      <td>0</td>\n",
       "    </tr>\n",
       "    <tr>\n",
       "      <th>33877</th>\n",
       "      <td>317423</td>\n",
       "      <td>2</td>\n",
       "      <td>0</td>\n",
       "      <td>0</td>\n",
       "      <td>0</td>\n",
       "      <td>0</td>\n",
       "      <td>0</td>\n",
       "      <td>0</td>\n",
       "      <td>0</td>\n",
       "      <td>0</td>\n",
       "      <td>...</td>\n",
       "      <td>0</td>\n",
       "      <td>0</td>\n",
       "      <td>0</td>\n",
       "      <td>0</td>\n",
       "      <td>0</td>\n",
       "      <td>0</td>\n",
       "      <td>0</td>\n",
       "      <td>0</td>\n",
       "      <td>0</td>\n",
       "      <td>0</td>\n",
       "    </tr>\n",
       "    <tr>\n",
       "      <th>33878</th>\n",
       "      <td>1184530</td>\n",
       "      <td>3</td>\n",
       "      <td>1</td>\n",
       "      <td>0</td>\n",
       "      <td>0</td>\n",
       "      <td>0</td>\n",
       "      <td>0</td>\n",
       "      <td>0</td>\n",
       "      <td>0</td>\n",
       "      <td>0</td>\n",
       "      <td>...</td>\n",
       "      <td>0</td>\n",
       "      <td>0</td>\n",
       "      <td>0</td>\n",
       "      <td>0</td>\n",
       "      <td>0</td>\n",
       "      <td>0</td>\n",
       "      <td>0</td>\n",
       "      <td>0</td>\n",
       "      <td>0</td>\n",
       "      <td>0</td>\n",
       "    </tr>\n",
       "  </tbody>\n",
       "</table>\n",
       "<p>33879 rows × 3909 columns</p>\n",
       "</div>"
      ],
      "text/plain": [
       "       train_id  item_condition_id  shipping  name_abercrombie  name_abh  \\\n",
       "0        256649                  1         1                 0         0   \n",
       "1       1428812                  3         0                 0         0   \n",
       "2        355453                  2         1                 0         0   \n",
       "3        615597                  1         1                 0         0   \n",
       "4        413071                  2         0                 0         0   \n",
       "...         ...                ...       ...               ...       ...   \n",
       "33874    576201                  2         0                 0         0   \n",
       "33875    921430                  1         0                 0         0   \n",
       "33876    859895                  3         0                 0         0   \n",
       "33877    317423                  2         0                 0         0   \n",
       "33878   1184530                  3         1                 0         0   \n",
       "\n",
       "       name_active  name_adapter  name_adidas  name_advance  name_aeo  ...  \\\n",
       "0                0             0            0             0         0  ...   \n",
       "1                0             0            0             0         0  ...   \n",
       "2                0             0            0             0         0  ...   \n",
       "3                0             0            0             0         0  ...   \n",
       "4                0             0            0             0         0  ...   \n",
       "...            ...           ...          ...           ...       ...  ...   \n",
       "33874            0             0            0             0         0  ...   \n",
       "33875            0             0            0             0         0  ...   \n",
       "33876            0             0            0             0         0  ...   \n",
       "33877            0             0            0             0         0  ...   \n",
       "33878            0             0            0             0         0  ...   \n",
       "\n",
       "       cat_womenswimwearonepiece  cat_womenswimweartwopiece  cat_womentops  \\\n",
       "0                              0                          0              0   \n",
       "1                              0                          0              0   \n",
       "2                              0                          0              1   \n",
       "3                              0                          0              0   \n",
       "4                              0                          0              0   \n",
       "...                          ...                        ...            ...   \n",
       "33874                          0                          0              1   \n",
       "33875                          0                          0              0   \n",
       "33876                          0                          0              1   \n",
       "33877                          0                          0              0   \n",
       "33878                          0                          0              0   \n",
       "\n",
       "       cat_womenunderwearbras  cat_womenunderweargstrings  \\\n",
       "0                           0                           0   \n",
       "1                           0                           0   \n",
       "2                           0                           0   \n",
       "3                           0                           0   \n",
       "4                           0                           0   \n",
       "...                       ...                         ...   \n",
       "33874                       0                           0   \n",
       "33875                       0                           0   \n",
       "33876                       0                           0   \n",
       "33877                       0                           0   \n",
       "33878                       0                           0   \n",
       "\n",
       "       cat_womenunderwearother  cat_womenunderwearpanties  cat_womenwomens  \\\n",
       "0                            0                          0                0   \n",
       "1                            0                          0                0   \n",
       "2                            0                          0                0   \n",
       "3                            0                          0                0   \n",
       "4                            0                          0                0   \n",
       "...                        ...                        ...              ...   \n",
       "33874                        0                          0                0   \n",
       "33875                        0                          0                0   \n",
       "33876                        0                          0                0   \n",
       "33877                        0                          0                0   \n",
       "33878                        0                          0                0   \n",
       "\n",
       "       cat_wraps  cat_zip  \n",
       "0              0        0  \n",
       "1              0        0  \n",
       "2              0        0  \n",
       "3              0        0  \n",
       "4              0        0  \n",
       "...          ...      ...  \n",
       "33874          0        0  \n",
       "33875          0        0  \n",
       "33876          0        0  \n",
       "33877          0        0  \n",
       "33878          0        0  \n",
       "\n",
       "[33879 rows x 3909 columns]"
      ]
     },
     "execution_count": 77,
     "metadata": {},
     "output_type": "execute_result"
    }
   ],
   "source": [
    "X_train_final"
   ]
  },
  {
   "cell_type": "code",
   "execution_count": null,
   "id": "95833bfb",
   "metadata": {},
   "outputs": [],
   "source": []
  },
  {
   "cell_type": "code",
   "execution_count": null,
   "id": "caeaa976",
   "metadata": {},
   "outputs": [],
   "source": []
  },
  {
   "cell_type": "code",
   "execution_count": null,
   "id": "a1715e59",
   "metadata": {},
   "outputs": [],
   "source": []
  },
  {
   "cell_type": "markdown",
   "id": "cfdae66e",
   "metadata": {},
   "source": []
  }
 ],
 "metadata": {
  "kernelspec": {
   "display_name": "ml_env",
   "language": "python",
   "name": "python3"
  },
  "language_info": {
   "codemirror_mode": {
    "name": "ipython",
    "version": 3
   },
   "file_extension": ".py",
   "mimetype": "text/x-python",
   "name": "python",
   "nbconvert_exporter": "python",
   "pygments_lexer": "ipython3",
   "version": "3.11.5"
  }
 },
 "nbformat": 4,
 "nbformat_minor": 5
}
